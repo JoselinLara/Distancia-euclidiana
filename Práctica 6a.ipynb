{
 "cells": [
  {
   "cell_type": "code",
   "execution_count": 65,
   "metadata": {},
   "outputs": [
    {
     "name": "stderr",
     "output_type": "stream",
     "text": [
      "Parsed with column specification:\n",
      "cols(\n",
      "  Anio = col_double(),\n",
      "  Cveestado = col_double(),\n",
      "  Cveddr = col_double(),\n",
      "  Cvempio = col_double(),\n",
      "  Cveespecie = col_double(),\n",
      "  Volumen = col_double(),\n",
      "  Peso = col_double(),\n",
      "  Precio = col_double(),\n",
      "  Valor = col_double(),\n",
      "  Asacrificado = col_double(),\n",
      "  Cveproducto = col_double()\n",
      ")\n"
     ]
    }
   ],
   "source": [
    "library(\"readr\")\n",
    "df <- read_csv(\"C:\\\\Users\\\\hades\\\\Downloads\\\\dataset práctica 1\\\\cierre_2017.csv\") # Load the data set"
   ]
  },
  {
   "cell_type": "code",
   "execution_count": 66,
   "metadata": {},
   "outputs": [
    {
     "name": "stdout",
     "output_type": "stream",
     "text": [
      "Classes 'spec_tbl_df', 'tbl_df', 'tbl' and 'data.frame':\t33364 obs. of  11 variables:\n",
      " $ Anio        : num  2017 2017 2017 2017 2017 ...\n",
      " $ Cveestado   : num  1 1 1 1 1 1 1 1 1 1 ...\n",
      " $ Cveddr      : num  1 1 1 1 1 1 1 1 1 1 ...\n",
      " $ Cvempio     : num  1 1 1 1 1 1 1 1 1 1 ...\n",
      " $ Cveespecie  : num  1 3 3 3 4 4 4 6 6 12 ...\n",
      " $ Volumen     : num  311 99913 126951 2770 9037 ...\n",
      " $ Peso        : num  0 1.78 2.26 0 251.49 ...\n",
      " $ Precio      : num  45.6 28 19.6 20 72.3 ...\n",
      " $ Valor       : num  14160 2800598 2488734 55452 653578 ...\n",
      " $ Asacrificado: num  0 56247778 0 0 35932 ...\n",
      " $ Cveproducto : num  7 1 8 4 1 3 6 1 3 1 ...\n",
      " - attr(*, \"spec\")=\n",
      "  .. cols(\n",
      "  ..   Anio = col_double(),\n",
      "  ..   Cveestado = col_double(),\n",
      "  ..   Cveddr = col_double(),\n",
      "  ..   Cvempio = col_double(),\n",
      "  ..   Cveespecie = col_double(),\n",
      "  ..   Volumen = col_double(),\n",
      "  ..   Peso = col_double(),\n",
      "  ..   Precio = col_double(),\n",
      "  ..   Valor = col_double(),\n",
      "  ..   Asacrificado = col_double(),\n",
      "  ..   Cveproducto = col_double()\n",
      "  .. )\n"
     ]
    }
   ],
   "source": [
    "str(df)"
   ]
  },
  {
   "cell_type": "code",
   "execution_count": 67,
   "metadata": {},
   "outputs": [],
   "source": [
    "df <- na.omit(df)"
   ]
  },
  {
   "cell_type": "code",
   "execution_count": 68,
   "metadata": {},
   "outputs": [],
   "source": [
    "df <- scale(df)"
   ]
  },
  {
   "cell_type": "code",
   "execution_count": 69,
   "metadata": {},
   "outputs": [
    {
     "data": {
      "text/html": [
       "<table>\n",
       "<thead><tr><th scope=col>Anio</th><th scope=col>Cveestado</th><th scope=col>Cveddr</th><th scope=col>Cvempio</th><th scope=col>Cveespecie</th><th scope=col>Volumen</th><th scope=col>Peso</th><th scope=col>Precio</th><th scope=col>Valor</th><th scope=col>Asacrificado</th><th scope=col>Cveproducto</th></tr></thead>\n",
       "<tbody>\n",
       "\t<tr><td>NaN        </td><td>-2.545169  </td><td>-2.240387  </td><td>-0.8245398 </td><td>-1.3569694 </td><td>-0.06832267</td><td>-0.5688546 </td><td> 0.34926212</td><td>-0.04465481</td><td>-0.05187824</td><td> 1.5167930 </td></tr>\n",
       "\t<tr><td>NaN        </td><td>-2.545169  </td><td>-2.240387  </td><td>-0.8245398 </td><td>-0.9052803 </td><td>10.90573414</td><td>-0.5533055 </td><td>-0.51082977</td><td>19.24314594</td><td>55.02365145</td><td>-0.9504822 </td></tr>\n",
       "\t<tr><td>NaN        </td><td>-2.545169  </td><td>-2.240387  </td><td>-0.8245398 </td><td>-0.9052803 </td><td>13.88483353</td><td>-0.5490943 </td><td>-0.92349765</td><td>17.08442070</td><td>-0.05187824</td><td> 1.9280056 </td></tr>\n",
       "\t<tr><td>NaN        </td><td>-2.545169  </td><td>-2.240387  </td><td>-0.8245398 </td><td>-0.9052803 </td><td> 0.20264061</td><td>-0.5688546 </td><td>-0.90293769</td><td> 0.24116794</td><td>-0.05187824</td><td> 0.2831554 </td></tr>\n",
       "\t<tr><td>NaN        </td><td>-2.545169  </td><td>-2.240387  </td><td>-0.8245398 </td><td>-0.6794357 </td><td> 0.89311169</td><td> 1.6329873 </td><td> 1.65775708</td><td> 4.38141216</td><td>-0.01669509</td><td>-0.9504822 </td></tr>\n",
       "\t<tr><td>NaN        </td><td>-2.545169  </td><td>-2.240387  </td><td>-0.8245398 </td><td>-0.6794357 </td><td> 1.73125082</td><td> 3.4865157 </td><td> 0.02813504</td><td> 4.35517999</td><td>-0.05187824</td><td>-0.1280571 </td></tr>\n",
       "</tbody>\n",
       "</table>\n"
      ],
      "text/latex": [
       "\\begin{tabular}{lllllllllll}\n",
       " Anio & Cveestado & Cveddr & Cvempio & Cveespecie & Volumen & Peso & Precio & Valor & Asacrificado & Cveproducto\\\\\n",
       "\\hline\n",
       "\t NaN         & -2.545169   & -2.240387   & -0.8245398  & -1.3569694  & -0.06832267 & -0.5688546  &  0.34926212 & -0.04465481 & -0.05187824 &  1.5167930 \\\\\n",
       "\t NaN         & -2.545169   & -2.240387   & -0.8245398  & -0.9052803  & 10.90573414 & -0.5533055  & -0.51082977 & 19.24314594 & 55.02365145 & -0.9504822 \\\\\n",
       "\t NaN         & -2.545169   & -2.240387   & -0.8245398  & -0.9052803  & 13.88483353 & -0.5490943  & -0.92349765 & 17.08442070 & -0.05187824 &  1.9280056 \\\\\n",
       "\t NaN         & -2.545169   & -2.240387   & -0.8245398  & -0.9052803  &  0.20264061 & -0.5688546  & -0.90293769 &  0.24116794 & -0.05187824 &  0.2831554 \\\\\n",
       "\t NaN         & -2.545169   & -2.240387   & -0.8245398  & -0.6794357  &  0.89311169 &  1.6329873  &  1.65775708 &  4.38141216 & -0.01669509 & -0.9504822 \\\\\n",
       "\t NaN         & -2.545169   & -2.240387   & -0.8245398  & -0.6794357  &  1.73125082 &  3.4865157  &  0.02813504 &  4.35517999 & -0.05187824 & -0.1280571 \\\\\n",
       "\\end{tabular}\n"
      ],
      "text/markdown": [
       "\n",
       "| Anio | Cveestado | Cveddr | Cvempio | Cveespecie | Volumen | Peso | Precio | Valor | Asacrificado | Cveproducto |\n",
       "|---|---|---|---|---|---|---|---|---|---|---|\n",
       "| NaN         | -2.545169   | -2.240387   | -0.8245398  | -1.3569694  | -0.06832267 | -0.5688546  |  0.34926212 | -0.04465481 | -0.05187824 |  1.5167930  |\n",
       "| NaN         | -2.545169   | -2.240387   | -0.8245398  | -0.9052803  | 10.90573414 | -0.5533055  | -0.51082977 | 19.24314594 | 55.02365145 | -0.9504822  |\n",
       "| NaN         | -2.545169   | -2.240387   | -0.8245398  | -0.9052803  | 13.88483353 | -0.5490943  | -0.92349765 | 17.08442070 | -0.05187824 |  1.9280056  |\n",
       "| NaN         | -2.545169   | -2.240387   | -0.8245398  | -0.9052803  |  0.20264061 | -0.5688546  | -0.90293769 |  0.24116794 | -0.05187824 |  0.2831554  |\n",
       "| NaN         | -2.545169   | -2.240387   | -0.8245398  | -0.6794357  |  0.89311169 |  1.6329873  |  1.65775708 |  4.38141216 | -0.01669509 | -0.9504822  |\n",
       "| NaN         | -2.545169   | -2.240387   | -0.8245398  | -0.6794357  |  1.73125082 |  3.4865157  |  0.02813504 |  4.35517999 | -0.05187824 | -0.1280571  |\n",
       "\n"
      ],
      "text/plain": [
       "     Anio Cveestado Cveddr    Cvempio    Cveespecie Volumen     Peso      \n",
       "[1,] NaN  -2.545169 -2.240387 -0.8245398 -1.3569694 -0.06832267 -0.5688546\n",
       "[2,] NaN  -2.545169 -2.240387 -0.8245398 -0.9052803 10.90573414 -0.5533055\n",
       "[3,] NaN  -2.545169 -2.240387 -0.8245398 -0.9052803 13.88483353 -0.5490943\n",
       "[4,] NaN  -2.545169 -2.240387 -0.8245398 -0.9052803  0.20264061 -0.5688546\n",
       "[5,] NaN  -2.545169 -2.240387 -0.8245398 -0.6794357  0.89311169  1.6329873\n",
       "[6,] NaN  -2.545169 -2.240387 -0.8245398 -0.6794357  1.73125082  3.4865157\n",
       "     Precio      Valor       Asacrificado Cveproducto\n",
       "[1,]  0.34926212 -0.04465481 -0.05187824   1.5167930 \n",
       "[2,] -0.51082977 19.24314594 55.02365145  -0.9504822 \n",
       "[3,] -0.92349765 17.08442070 -0.05187824   1.9280056 \n",
       "[4,] -0.90293769  0.24116794 -0.05187824   0.2831554 \n",
       "[5,]  1.65775708  4.38141216 -0.01669509  -0.9504822 \n",
       "[6,]  0.02813504  4.35517999 -0.05187824  -0.1280571 "
      ]
     },
     "metadata": {},
     "output_type": "display_data"
    }
   ],
   "source": [
    "head(df)"
   ]
  },
  {
   "cell_type": "code",
   "execution_count": 70,
   "metadata": {},
   "outputs": [],
   "source": [
    "set.seed(123) #proponemos una semilla para que sea reproducible el experimento\n",
    "ss <- sample(1:50, 15) #tomamos 15 observaciones \n",
    "df <- df[ss, ]  #creamos el subcojunto\n",
    "df.scaled <- scale(df) #estandarizamos los valores de las caracterícticas"
   ]
  },
  {
   "cell_type": "code",
   "execution_count": 71,
   "metadata": {},
   "outputs": [],
   "source": [
    "# Otros métodos pueden ser: “euclidean”, “maximum”, “manhattan”, “canberra”, “binary”, “minkowski”.\n",
    "dist.eucl <- dist(df.scaled, method = \"euclidean\")"
   ]
  },
  {
   "cell_type": "code",
   "execution_count": 72,
   "metadata": {},
   "outputs": [
    {
     "data": {
      "text/html": [
       "<table>\n",
       "<thead><tr><th scope=col>1</th><th scope=col>2</th><th scope=col>3</th></tr></thead>\n",
       "<tbody>\n",
       "\t<tr><td>0.0</td><td>5.1</td><td>2.9</td></tr>\n",
       "\t<tr><td>5.1</td><td>0.0</td><td>5.8</td></tr>\n",
       "\t<tr><td>2.9</td><td>5.8</td><td>0.0</td></tr>\n",
       "</tbody>\n",
       "</table>\n"
      ],
      "text/latex": [
       "\\begin{tabular}{r|lll}\n",
       " 1 & 2 & 3\\\\\n",
       "\\hline\n",
       "\t 0.0 & 5.1 & 2.9\\\\\n",
       "\t 5.1 & 0.0 & 5.8\\\\\n",
       "\t 2.9 & 5.8 & 0.0\\\\\n",
       "\\end{tabular}\n"
      ],
      "text/markdown": [
       "\n",
       "| 1 | 2 | 3 |\n",
       "|---|---|---|\n",
       "| 0.0 | 5.1 | 2.9 |\n",
       "| 5.1 | 0.0 | 5.8 |\n",
       "| 2.9 | 5.8 | 0.0 |\n",
       "\n"
      ],
      "text/plain": [
       "  1   2   3  \n",
       "1 0.0 5.1 2.9\n",
       "2 5.1 0.0 5.8\n",
       "3 2.9 5.8 0.0"
      ]
     },
     "metadata": {},
     "output_type": "display_data"
    }
   ],
   "source": [
    "# Subconjunto de las 3 primeras características y observaciones, y valores redondeados\n",
    "round(as.matrix(dist.eucl)[1:3, 1:3], 1)"
   ]
  },
  {
   "cell_type": "code",
   "execution_count": null,
   "metadata": {},
   "outputs": [],
   "source": []
  },
  {
   "cell_type": "code",
   "execution_count": null,
   "metadata": {},
   "outputs": [],
   "source": []
  },
  {
   "cell_type": "code",
   "execution_count": null,
   "metadata": {},
   "outputs": [],
   "source": []
  },
  {
   "cell_type": "code",
   "execution_count": 73,
   "metadata": {},
   "outputs": [
    {
     "data": {
      "text/html": [
       "<table>\n",
       "<thead><tr><th scope=col>1</th><th scope=col>2</th><th scope=col>3</th></tr></thead>\n",
       "<tbody>\n",
       "\t<tr><td> 0.00</td><td>23.43</td><td> 2.28</td></tr>\n",
       "\t<tr><td>23.43</td><td> 0.00</td><td>23.55</td></tr>\n",
       "\t<tr><td> 2.28</td><td>23.55</td><td> 0.00</td></tr>\n",
       "</tbody>\n",
       "</table>\n"
      ],
      "text/latex": [
       "\\begin{tabular}{r|lll}\n",
       " 1 & 2 & 3\\\\\n",
       "\\hline\n",
       "\t  0.00 & 23.43 &  2.28\\\\\n",
       "\t 23.43 &  0.00 & 23.55\\\\\n",
       "\t  2.28 & 23.55 &  0.00\\\\\n",
       "\\end{tabular}\n"
      ],
      "text/markdown": [
       "\n",
       "| 1 | 2 | 3 |\n",
       "|---|---|---|\n",
       "|  0.00 | 23.43 |  2.28 |\n",
       "| 23.43 |  0.00 | 23.55 |\n",
       "|  2.28 | 23.55 |  0.00 |\n",
       "\n"
      ],
      "text/plain": [
       "  1     2     3    \n",
       "1  0.00 23.43  2.28\n",
       "2 23.43  0.00 23.55\n",
       "3  2.28 23.55  0.00"
      ]
     },
     "metadata": {},
     "output_type": "display_data"
    }
   ],
   "source": [
    "dd <- daisy(df) \n",
    "round(as.matrix(dd)[1:3, 1:3], 2)"
   ]
  },
  {
   "cell_type": "code",
   "execution_count": 74,
   "metadata": {},
   "outputs": [
    {
     "data": {
      "image/png": "[encoded data removed]",
      "text/plain": [
       "plot without title"
      ]
     },
     "metadata": {},
     "output_type": "display_data"
    }
   ],
   "source": [
    "library(\"factoextra\") \n",
    "fviz_dist(dist.eucl)\n",
    "#Rojo: alta similaridad (baja disimilaridad) \n",
    "#Azil: baja similaridad (alta disimilaridad)"
   ]
  },
  {
   "cell_type": "code",
   "execution_count": null,
   "metadata": {},
   "outputs": [],
   "source": []
  },
  {
   "cell_type": "code",
   "execution_count": null,
   "metadata": {},
   "outputs": [],
   "source": []
  }
 ],
 "metadata": {
  "kernelspec": {
   "display_name": "R",
   "language": "R",
   "name": "ir"
  },
  "language_info": {
   "codemirror_mode": "r",
   "file_extension": ".r",
   "mimetype": "text/x-r-source",
   "name": "R",
   "pygments_lexer": "r",
   "version": "3.6.1"
  }
 },
 "nbformat": 4,
 "nbformat_minor": 4
}
